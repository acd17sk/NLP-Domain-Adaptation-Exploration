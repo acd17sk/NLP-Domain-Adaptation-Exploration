{
 "cells": [
  {
   "cell_type": "code",
   "execution_count": 14,
   "id": "dfbd45f4",
   "metadata": {},
   "outputs": [],
   "source": [
    "import numpy as np\n",
    "import pandas as pd"
   ]
  },
  {
   "cell_type": "code",
   "execution_count": 15,
   "id": "26c233c1",
   "metadata": {},
   "outputs": [],
   "source": [
    "def train_test_split_and_save(url, amount, name, column_names_to_convert):\n",
    "    \n",
    "    cat_sel_tr = int((amount*0.8)/3)\n",
    "    cat_sel_eval = int((amount*0.2)/3)\n",
    "    \n",
    "    dataset = pd.read_csv(url)\n",
    "    dataset = dataset.dropna().reset_index(drop=True)\n",
    "    #training\n",
    "    positive = dataset[dataset.category == 1][:cat_sel_tr]\n",
    "    neutral = dataset[dataset.category == 0][:cat_sel_tr]\n",
    "    negative = dataset[dataset.category == -1][:cat_sel_tr]\n",
    "    tr_dataset = pd.concat([positive, neutral, negative]).sample(frac=1).reset_index(drop=True)\n",
    "    tr_dataset = tr_dataset.rename(columns=column_names_to_convert)\n",
    "    tr_dataset = tr_dataset.astype({'label': int})\n",
    "    new_label_format = tr_dataset['label'].map({-1:0, 0:1, 1:2})\n",
    "    tr_dataset['label'] = new_label_format\n",
    "    \n",
    "    # eval data\n",
    "    positiveval = dataset[dataset.category == 1][cat_sel_tr+200:cat_sel_tr+200+cat_sel_eval]\n",
    "    neutralval = dataset[dataset.category == 0][cat_sel_tr+200:cat_sel_tr+200+cat_sel_eval]\n",
    "    negativeval = dataset[dataset.category == -1][cat_sel_tr+200:cat_sel_tr+200+cat_sel_eval]\n",
    "    val_dataset = pd.concat([positiveval, neutralval, negativeval]).sample(frac=1).reset_index(drop=True)\n",
    "    val_dataset = val_dataset.rename(columns=column_names_to_convert)\n",
    "    val_dataset = val_dataset.astype({'label': int})\n",
    "    new_label_format = val_dataset['label'].map({-1:0, 0:1, 1:2})\n",
    "    val_dataset['label'] = new_label_format\n",
    "    \n",
    "    tr_dataset.to_csv(f'{name} training_{amount}.csv')\n",
    "    val_dataset.to_csv(f'{name} eval_{amount}.csv')"
   ]
  },
  {
   "cell_type": "code",
   "execution_count": 16,
   "id": "5229e947",
   "metadata": {},
   "outputs": [],
   "source": [
    "# train_test_split_and_save('Data/Twitter_Data.csv', 3750, 'Twitter_Data', {'clean_text': 'text', 'category':'label'})"
   ]
  },
  {
   "cell_type": "code",
   "execution_count": 17,
   "id": "2d8d2be5",
   "metadata": {},
   "outputs": [],
   "source": [
    "train_test_split_and_save('Data/Reddit_Data.csv', 3750, 'Reddit_Data', {'clean_comment': 'text', 'category':'label'})"
   ]
  },
  {
   "cell_type": "code",
   "execution_count": null,
   "id": "a9fd4866",
   "metadata": {},
   "outputs": [],
   "source": []
  }
 ],
 "metadata": {
  "kernelspec": {
   "display_name": "Python [conda env:myenv] *",
   "language": "python",
   "name": "conda-env-myenv-py"
  },
  "language_info": {
   "codemirror_mode": {
    "name": "ipython",
    "version": 3
   },
   "file_extension": ".py",
   "mimetype": "text/x-python",
   "name": "python",
   "nbconvert_exporter": "python",
   "pygments_lexer": "ipython3",
   "version": "3.11.5"
  }
 },
 "nbformat": 4,
 "nbformat_minor": 5
}
